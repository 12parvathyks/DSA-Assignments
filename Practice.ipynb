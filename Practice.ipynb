{
  "nbformat": 4,
  "nbformat_minor": 0,
  "metadata": {
    "colab": {
      "provenance": []
    },
    "kernelspec": {
      "name": "python3",
      "display_name": "Python 3"
    },
    "language_info": {
      "name": "python"
    }
  },
  "cells": [
    {
      "cell_type": "code",
      "execution_count": 5,
      "metadata": {
        "colab": {
          "base_uri": "https://localhost:8080/"
        },
        "id": "e39-cLyRh_ss",
        "outputId": "8e383cbe-2095-4fbc-be8b-5b7f55f5e4e4"
      },
      "outputs": [
        {
          "output_type": "stream",
          "name": "stdout",
          "text": [
            "Enter the radius :3\n",
            "Area of Circle is 28.259999999999998\n"
          ]
        }
      ],
      "source": [
        "#1)\n",
        "#Write a Python program which accepts the radius of a circle from the user\n",
        "#and compute the area.\n",
        "#Sample input: Enter the radius: 3\n",
        "#Sample output: Area of Circle is 28.59999999999\n",
        "radius=float(input(\"Enter the radius :\"))\n",
        "Pi=3.14\n",
        "Area=float(Pi*radius*radius)\n",
        "print(\"Area of Circle is\",Area)"
      ]
    },
    {
      "cell_type": "code",
      "source": [
        "#2)\n",
        "#Write a Python Program to accept the details of a student like name, roll\n",
        "#number and mark and display it.\n",
        "#Sample input: Enter the name: Anisha\n",
        "#Enter the roll number: 21\n",
        "##Enter the mark: 78\n",
        "#Sample output: Name: Anisha\n",
        "#Roll No: 21\n",
        "#Mark: 78\n",
        "nme=input(\"Enter the name:\")\n",
        "rno=input(\"Enter the roll number:\")\n",
        "marks=input(\"Enter the mark:\")\n",
        "print(f\"Name :{nme}\\nRoll No:{rno}\\nMark :{marks}\")"
      ],
      "metadata": {
        "colab": {
          "base_uri": "https://localhost:8080/"
        },
        "id": "XbXYD-qGipAD",
        "outputId": "acf04779-44f8-4219-adc7-7d9b06ee5714"
      },
      "execution_count": 7,
      "outputs": [
        {
          "output_type": "stream",
          "name": "stdout",
          "text": [
            "Enter the name:Parvathy\n",
            "Enter the roll number:510\n",
            "Enter the mark:80\n",
            "Name :Parvathy\n",
            "Roll No:510\n",
            "Mark :80\n"
          ]
        }
      ]
    },
    {
      "cell_type": "code",
      "source": [
        "#3)\n",
        "#Write a Python program to get the largest number from a list.\n",
        "#Sample input: 12, 3, 47, 10\n",
        "#Sample output: 47 is the largest number.\n",
        "\n",
        "my_list=[12, 3, 47, 10]\n",
        "my_list.sort()\n",
        "Large=my_list[-1]\n",
        "print(Large,\"is the largest number\")"
      ],
      "metadata": {
        "colab": {
          "base_uri": "https://localhost:8080/"
        },
        "id": "Xrcph_CnipPl",
        "outputId": "284d766e-505d-413f-a4ca-221247727dec"
      },
      "execution_count": 8,
      "outputs": [
        {
          "output_type": "stream",
          "name": "stdout",
          "text": [
            "47 is the largest number\n"
          ]
        }
      ]
    },
    {
      "cell_type": "code",
      "source": [
        "#4)\n",
        "#Given a range of first 10 numbers, write a Python program to iterate from\n",
        "#start number to the end number and print the sum of the current number\n",
        "#and previous number.\n",
        "#Sample input: 1….10\n",
        "#Sample output: Current Number 1 Previous Number 0 Sum: 1 Current\n",
        "#Number 2 Previous Number 1 Sum: 3 Current Number 3 Previous\n",
        "#Number 2 Sum: 5… Current Number 10 Previous Number 9 Sum: 19\n",
        "\n",
        "for c in range(1,10):\n",
        "  sum=c+c-1\n",
        "  print(f\"Current Number {c} Previous Number {c-1} Sum:{sum}\")"
      ],
      "metadata": {
        "colab": {
          "base_uri": "https://localhost:8080/"
        },
        "id": "agBVSunqipSz",
        "outputId": "e4ca3929-3ed4-4fb7-a41f-e3225d3d3633"
      },
      "execution_count": 9,
      "outputs": [
        {
          "output_type": "stream",
          "name": "stdout",
          "text": [
            "Current Number 1 Previous Number 0 Sum:1\n",
            "Current Number 2 Previous Number 1 Sum:3\n",
            "Current Number 3 Previous Number 2 Sum:5\n",
            "Current Number 4 Previous Number 3 Sum:7\n",
            "Current Number 5 Previous Number 4 Sum:9\n",
            "Current Number 6 Previous Number 5 Sum:11\n",
            "Current Number 7 Previous Number 6 Sum:13\n",
            "Current Number 8 Previous Number 7 Sum:15\n",
            "Current Number 9 Previous Number 8 Sum:17\n"
          ]
        }
      ]
    },
    {
      "cell_type": "code",
      "source": [
        "#5)\n",
        "#Write a Python program to print only those numbers which are divisible\n",
        "#of 5.\n",
        "#Sample input: 10, 20,33,46,55 Sample output: 10, 20, 55\n",
        "demolist = []\n",
        "mylist=[10, 20,33,46,55]\n",
        "for i in mylist:\n",
        "  if i % 5==0:\n",
        "    demolist.append(i)\n",
        "\n",
        "print(demolist)\n"
      ],
      "metadata": {
        "colab": {
          "base_uri": "https://localhost:8080/"
        },
        "id": "EHAoKbMlipWC",
        "outputId": "cd2585ed-7ac7-493e-9715-032fd16eac02"
      },
      "execution_count": 10,
      "outputs": [
        {
          "output_type": "stream",
          "name": "stdout",
          "text": [
            "[10, 20, 55]\n"
          ]
        }
      ]
    },
    {
      "cell_type": "code",
      "source": [
        "#6)\n",
        "# Write a Python program to check whether a number is prime or not.\n",
        "\n",
        "n1=int(input(\"Enter the number:\"))\n",
        "if n1 > 1:\n",
        "    for i in range(2, int(n1/2)+1):\n",
        "        if (n1 % i) == 0:\n",
        "            print(n1, \"is not a prime number\")\n",
        "            break\n",
        "    else:\n",
        "        print(n1, \"is a prime number\")\n",
        "else:\n",
        "    print(n1, \"is not a prime number\")"
      ],
      "metadata": {
        "colab": {
          "base_uri": "https://localhost:8080/"
        },
        "id": "YktrMbqYipZd",
        "outputId": "6a27c5f9-e781-43b5-b6eb-a9bf44800ad7"
      },
      "execution_count": 11,
      "outputs": [
        {
          "output_type": "stream",
          "name": "stdout",
          "text": [
            "Enter the number:3\n",
            "3 is a prime number\n"
          ]
        }
      ]
    },
    {
      "cell_type": "code",
      "source": [
        "#7)\n",
        "# Write a Python program to reverse a list using for loop\n",
        "ori_list = [10,40,30,70 ]\n",
        "rev_list=[]\n",
        "for i in ori_list:\n",
        "  rev_list= [i] + rev_list\n",
        "print(rev_list)"
      ],
      "metadata": {
        "colab": {
          "base_uri": "https://localhost:8080/"
        },
        "id": "uCqBX_VfkBh7",
        "outputId": "16d2c417-b0e8-4d49-df0c-837b4f930507"
      },
      "execution_count": 16,
      "outputs": [
        {
          "output_type": "stream",
          "name": "stdout",
          "text": [
            "[70, 30, 40, 10]\n"
          ]
        }
      ]
    },
    {
      "cell_type": "code",
      "source": [
        "#8)\n",
        "#Write a Python program to print the following pattern\n",
        "n=6\n",
        "for i in range(0, n):\n",
        "  for j in range(0,i+1):\n",
        "    print(\"* \", end=\"\")\n",
        "  print()"
      ],
      "metadata": {
        "colab": {
          "base_uri": "https://localhost:8080/"
        },
        "id": "4mdja_XgkIG8",
        "outputId": "bf57096e-e488-4e99-9727-41e9818525c8"
      },
      "execution_count": 19,
      "outputs": [
        {
          "output_type": "stream",
          "name": "stdout",
          "text": [
            "* \n",
            "* * \n",
            "* * * \n",
            "* * * * \n",
            "* * * * * \n",
            "* * * * * * \n"
          ]
        }
      ]
    },
    {
      "cell_type": "code",
      "source": [
        "#9)\n",
        "#Write a Python program to find the maximum of three numbers\n",
        "\n",
        "def bigger(a, b, c):\n",
        "  if (a >= b) and (a >= c):\n",
        "        largest = a\n",
        "\n",
        "  elif (b >= a) and (b >= c):\n",
        "        largest = b\n",
        "  else:\n",
        "        largest = c\n",
        "  return largest\n",
        "print(bigger(34,12,7))"
      ],
      "metadata": {
        "colab": {
          "base_uri": "https://localhost:8080/"
        },
        "id": "QM8ukH-Dl7nA",
        "outputId": "dd5db145-91b0-4d89-b9a8-076e12d0c12a"
      },
      "execution_count": 20,
      "outputs": [
        {
          "output_type": "stream",
          "name": "stdout",
          "text": [
            "34\n"
          ]
        }
      ]
    },
    {
      "cell_type": "code",
      "source": [
        "#10)\n",
        "#Write a Python program to construct the following pattern, using a\n",
        "#nested for loop.\n",
        "\n",
        "n=5\n",
        "for i in range(0, n):\n",
        "  for j in range(0,i+1):\n",
        "    print(\"* \", end=\"\")\n",
        "  print()\n",
        "for i in range(n, 0,-1):\n",
        "    for j in range(0, i - 1):\n",
        "        print(\"*\", end=' ')\n",
        "    print()"
      ],
      "metadata": {
        "colab": {
          "base_uri": "https://localhost:8080/"
        },
        "id": "UO6Asgy3mOhu",
        "outputId": "63cbc24d-7465-4139-c98f-30145116450a"
      },
      "execution_count": 21,
      "outputs": [
        {
          "output_type": "stream",
          "name": "stdout",
          "text": [
            "* \n",
            "* * \n",
            "* * * \n",
            "* * * * \n",
            "* * * * * \n",
            "* * * * \n",
            "* * * \n",
            "* * \n",
            "* \n",
            "\n"
          ]
        }
      ]
    },
    {
      "cell_type": "code",
      "source": [
        "# Practice problem set 2\n"
      ],
      "metadata": {
        "id": "kK36AzXAnC_x"
      },
      "execution_count": null,
      "outputs": []
    },
    {
      "cell_type": "code",
      "source": [
        "#1)\n",
        "#Write a Python program to accept a string value from the user and display\n",
        "#the count of each character in that string.\n",
        "st=input(\"Enter a string value:\")\n",
        "set1={}\n",
        "for i in st:\n",
        "  if i in set1:\n",
        "    set1[i]+=1\n",
        "  else:\n",
        "    set1[i] = 1\n",
        "\n",
        "print(set1)"
      ],
      "metadata": {
        "colab": {
          "base_uri": "https://localhost:8080/"
        },
        "id": "XXsd9Zd_nU8b",
        "outputId": "dbb60817-6952-44b2-fde8-e4e552fbffb2"
      },
      "execution_count": 33,
      "outputs": [
        {
          "output_type": "stream",
          "name": "stdout",
          "text": [
            "Enter a string value:assembly Sample output\n",
            "{'a': 2, 's': 2, 'e': 2, 'm': 2, 'b': 1, 'l': 2, 'y': 1, ' ': 2, 'S': 1, 'p': 2, 'o': 1, 'u': 2, 't': 2}\n"
          ]
        }
      ]
    },
    {
      "cell_type": "code",
      "source": [
        "#2)\n",
        "#Write a Python function that takes a positive integer and returns the sum\n",
        "#of the cube of all the positive integers smaller than the specified number\n",
        "n=int(input(\"Enter the a positive integer :\"))\n",
        "k=0\n",
        "for i in range(n):\n",
        "  if i > 0:\n",
        "    k+=i*i*i\n",
        "print(k)"
      ],
      "metadata": {
        "colab": {
          "base_uri": "https://localhost:8080/"
        },
        "id": "NQIU4cmUn2ji",
        "outputId": "43bd8e36-681f-448e-adc9-700b97d0a9aa"
      },
      "execution_count": 96,
      "outputs": [
        {
          "output_type": "stream",
          "name": "stdout",
          "text": [
            "Enter the a positive integer :4\n",
            "36\n"
          ]
        }
      ]
    },
    {
      "cell_type": "code",
      "source": [
        "#3)\n",
        "#Write a Python function called exponent(base,exp) that returns an\n",
        "#integer value of base raises to the power of exp\n",
        "bse=int(input(\"Enter the base:\"))\n",
        "ex=int(input(\"Enter the exponent:\"))\n",
        "value=0\n",
        "def exponent(bse,ex):\n",
        "  value=bse**ex\n",
        "  return value\n",
        "exponent(bse,ex)\n"
      ],
      "metadata": {
        "colab": {
          "base_uri": "https://localhost:8080/"
        },
        "id": "LSCODfmTpajs",
        "outputId": "dd641a9e-7a04-4de4-d3d9-57e518784abc"
      },
      "execution_count": 95,
      "outputs": [
        {
          "name": "stdout",
          "output_type": "stream",
          "text": [
            "Enter the base:3\n",
            "Enter the exponent:4\n"
          ]
        },
        {
          "output_type": "execute_result",
          "data": {
            "text/plain": [
              "81"
            ]
          },
          "metadata": {},
          "execution_count": 95
        }
      ]
    },
    {
      "cell_type": "code",
      "source": [
        "2#4)\n",
        "#Write a Python function that takes a positive integer and returns the sum\n",
        "#of the cube of all the positive integers smaller than the specified number\n",
        "\n",
        "def sum_cube(n):\n",
        "    n1=int(input(\"Enter the a positive integer :\"))\n",
        "    result = 0\n",
        "    if n1 > 0:\n",
        "        for i in range(n1):\n",
        "            result += i * i * i\n",
        "        return result\n",
        "sum_cube(n)"
      ],
      "metadata": {
        "colab": {
          "base_uri": "https://localhost:8080/"
        },
        "id": "crsOQ6QDrSfP",
        "outputId": "f429b7e0-e048-4bc6-f760-df38c2145947"
      },
      "execution_count": 94,
      "outputs": [
        {
          "name": "stdout",
          "output_type": "stream",
          "text": [
            "Enter the a positive integer :3\n"
          ]
        },
        {
          "output_type": "execute_result",
          "data": {
            "text/plain": [
              "9"
            ]
          },
          "metadata": {},
          "execution_count": 94
        }
      ]
    },
    {
      "cell_type": "code",
      "source": [
        "#5)\n",
        "#Write a Python program which iterates from 1 to 10. For multiples of 2,\n",
        "#print “Fizz” instead of the number and for the multiples of 5, print “Buzz”.\n",
        "#For numbers which are multiples of both 2 and 5, print “FizzBuzz”.\n",
        "\n",
        "for i in range(1,11):\n",
        "  if i % 2==0 and i % 5 ==0:\n",
        "    print(\"FizzBuzz\")\n",
        "  elif i % 2==0:\n",
        "    print(\"Fizz\")\n",
        "  elif i % 5 ==0:\n",
        "    print(\"Buzz\")\n",
        "  else:\n",
        "      print(i)\n"
      ],
      "metadata": {
        "colab": {
          "base_uri": "https://localhost:8080/"
        },
        "id": "S-YAcDoMtCrE",
        "outputId": "acd065c6-84c4-4235-9bad-163a0aa3bd08"
      },
      "execution_count": 47,
      "outputs": [
        {
          "output_type": "stream",
          "name": "stdout",
          "text": [
            "1\n",
            "Fizz\n",
            "3\n",
            "Fizz\n",
            "Buzz\n",
            "Fizz\n",
            "7\n",
            "Fizz\n",
            "9\n",
            "FizzBuzz\n"
          ]
        }
      ]
    },
    {
      "cell_type": "code",
      "source": [
        "#6)\n",
        "#Write a Python program to find the most frequent item in a list of\n",
        "#numbers.\n",
        "List = [3, 1, 3, 2, 3, 3]\n",
        "def frequent(my_List):\n",
        "    no = 0\n",
        "    for i in my_List:\n",
        "        now_freq = my_List.count(i)\n",
        "        if(now_freq> no):\n",
        "            no= now_freq\n",
        "            num = i\n",
        "\n",
        "    return num\n",
        "print(frequent(List))"
      ],
      "metadata": {
        "colab": {
          "base_uri": "https://localhost:8080/"
        },
        "id": "3gRDEFvKuGPr",
        "outputId": "8ec78bb1-0938-4d90-9ffc-6269829b48c0"
      },
      "execution_count": 62,
      "outputs": [
        {
          "output_type": "stream",
          "name": "stdout",
          "text": [
            "3\n"
          ]
        }
      ]
    },
    {
      "cell_type": "code",
      "source": [
        "#7)\n",
        "#Write a Python program to find the sum of squares of the numbers in a\n",
        "#list.\n",
        "my_list=[2,1,3,1]\n",
        "k=0\n",
        "for i in my_list:\n",
        "  k+=i*i\n",
        "print(k)"
      ],
      "metadata": {
        "colab": {
          "base_uri": "https://localhost:8080/"
        },
        "id": "OHg6hrjFuGfA",
        "outputId": "9a395d15-35a2-4069-d0cd-22ad017f5855"
      },
      "execution_count": 63,
      "outputs": [
        {
          "output_type": "stream",
          "name": "stdout",
          "text": [
            "15\n"
          ]
        }
      ]
    },
    {
      "cell_type": "code",
      "source": [
        "#8)\n",
        "#Write a Python program using for loop that will iterate from 1 to 15. For\n",
        "#each iteration, check if the current number is odd or even, and display the\n",
        "#message to the screen as odd or even.\n",
        "for i in range(1,16):\n",
        "  if i% 2==0:\n",
        "    print(f\"{i} even\")\n",
        "  else:\n",
        "    print(f\"{i} odd\")"
      ],
      "metadata": {
        "colab": {
          "base_uri": "https://localhost:8080/"
        },
        "id": "Q-6NBAOIuGiP",
        "outputId": "4301e9ba-58e6-4d04-97c8-9cca76ecb4db"
      },
      "execution_count": 64,
      "outputs": [
        {
          "output_type": "stream",
          "name": "stdout",
          "text": [
            "1 odd\n",
            "2 even\n",
            "3 odd\n",
            "4 even\n",
            "5 odd\n",
            "6 even\n",
            "7 odd\n",
            "8 even\n",
            "9 odd\n",
            "10 even\n",
            "11 odd\n",
            "12 even\n",
            "13 odd\n",
            "14 even\n",
            "15 odd\n"
          ]
        }
      ]
    },
    {
      "cell_type": "code",
      "source": [
        "#9)\n",
        "#Write a Python program to convert temperatures to and from Celsius\n",
        "#Fahrenheit. [Formula: c/5=f-32/9 where c=temperature in Celsius and f=\n",
        "#temperature in Fahrenheit.] Sample input: Temperature in Fahrenheit\n",
        "#=41 Sample output: Temperature in Celsius =5\n",
        "c=float(input(\"Enter the temperature in Fahrenheit :\"))\n",
        "cel=(c-32) * 5 / 9\n",
        "print(\"Temperature in Celsius :\",cel)"
      ],
      "metadata": {
        "colab": {
          "base_uri": "https://localhost:8080/"
        },
        "id": "ISrkyz05xRMK",
        "outputId": "8a3a6d08-4aef-46e7-84a1-a83cfafa13ab"
      },
      "execution_count": 71,
      "outputs": [
        {
          "output_type": "stream",
          "name": "stdout",
          "text": [
            "Enter the temperature in Fahrenheit :41\n",
            "Temperature in Celsius : 5.0\n"
          ]
        }
      ]
    },
    {
      "cell_type": "code",
      "source": [
        "#10)\n",
        "#Write a Python function to calculate the factorial of a number (a\n",
        "#nonnegative integer). The function accepts the number as an argument.\n",
        "#Sample input: 3 Sample output: 6\n",
        "def factorial(num):\n",
        "  fact=1\n",
        "  if num < 0:\n",
        "    print(\"Factorial does not exist\")\n",
        "  elif num == 0:\n",
        "    print(\"The factorial of 0 is 1\")\n",
        "  else:\n",
        "    for i in range(1,num + 1):\n",
        "       fact = fact*i\n",
        "    return fact\n",
        "factorial(3)"
      ],
      "metadata": {
        "colab": {
          "base_uri": "https://localhost:8080/"
        },
        "id": "DQ2NjY6LyOOz",
        "outputId": "7d7e2e95-7936-48c3-f065-4c8e4fc195ff"
      },
      "execution_count": 102,
      "outputs": [
        {
          "output_type": "execute_result",
          "data": {
            "text/plain": [
              "6"
            ]
          },
          "metadata": {},
          "execution_count": 102
        }
      ]
    },
    {
      "cell_type": "code",
      "source": [],
      "metadata": {
        "id": "fi3olE7szvmS"
      },
      "execution_count": null,
      "outputs": []
    }
  ]
}